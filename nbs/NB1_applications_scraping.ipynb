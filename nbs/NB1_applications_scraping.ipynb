{
 "cells": [
  {
   "cell_type": "markdown",
   "metadata": {},
   "source": [
    "# NB1: Notebook created for scraping all the applications text from the ECJ\n",
    "\n",
    "**Output:** Clean dataset with the following variables. \n",
    "\n",
    "- [ ] `decision_date`: application date. \n",
    "- [ ] `referral_date `: date when the reference for preliminary referenc was sent. \n",
    "- [ ] `referring_court_name`: ???\n",
    "- [ ] `ms_origin`: ???\n",
    "- [ ] `num_applications`: def() construct from using `iuropa_all_cases_id` same for all apps.\n",
    "- [ ] `full_text`: Full applications text that can be paresed into paragraphs and citations.\n",
    "- [ ] `par_location`:\n",
    "- [ ] `par_location_text`: \n",
    "- [ ] `cited_celex`:\n",
    "- [ ] `cited_locations`:\n",
    "- [ ] `cited_iuropa_id`: Code created using the constructor `A000P000L000`\n",
    "- [ ] `num_questions`: def(max(par_locations)) unique for each app.\n",
    "- [ ] `firts_referral`: def (sort_by(decision_date)) create bool flag.\n",
    "\n",
    "**Output**: Create script that scrapes updates"
   ]
  },
  {
   "cell_type": "markdown",
   "metadata": {},
   "source": [
    "## Environment and Visual Settings"
   ]
  },
  {
   "cell_type": "code",
   "execution_count": 2,
   "metadata": {},
   "outputs": [
    {
     "data": {
      "text/plain": [
       "'c:\\\\Users\\\\mauricmm\\\\iCloudDrive\\\\cloudgit\\\\uio24emc\\\\figures\\\\'"
      ]
     },
     "execution_count": 2,
     "metadata": {},
     "output_type": "execute_result"
    }
   ],
   "source": [
    "# Required Libraries \n",
    "import os \n",
    "import sys\n",
    "from bs4 import BeautifulSoup\n",
    "\n",
    "# Add project paths for for easier access across whole project\n",
    "#paths_script_path = \"C:\\\\Users\\\\mauricmm\\\\iCloudDrive\\\\cloudgit\\\\uio24emc\\\\\"\n",
    "parent_dir = os.path.dirname(os.getcwd(),) +\"\\\\\"\n",
    "sys.path.append(parent_dir)\n",
    "import paths\n",
    "\n",
    "# Access paths globally\n",
    "paths.figures_dir"
   ]
  },
  {
   "cell_type": "markdown",
   "metadata": {},
   "source": [
    "## Section 1"
   ]
  },
  {
   "cell_type": "code",
   "execution_count": 5,
   "metadata": {},
   "outputs": [
    {
     "data": {
      "text/plain": [
       "'c:\\\\Users\\\\mauricmm\\\\iCloudDrive\\\\cloudgit\\\\uio24emc\\\\nbs\\\\'"
      ]
     },
     "execution_count": 5,
     "metadata": {},
     "output_type": "execute_result"
    }
   ],
   "source": []
  },
  {
   "cell_type": "markdown",
   "metadata": {},
   "source": []
  }
 ],
 "metadata": {
  "kernelspec": {
   "display_name": "Python 3 (ipykernel)",
   "language": "python",
   "name": "python3"
  },
  "language_info": {
   "codemirror_mode": {
    "name": "ipython",
    "version": 3
   },
   "file_extension": ".py",
   "mimetype": "text/x-python",
   "name": "python",
   "nbconvert_exporter": "python",
   "pygments_lexer": "ipython3",
   "version": "3.12.4"
  }
 },
 "nbformat": 4,
 "nbformat_minor": 4
}
