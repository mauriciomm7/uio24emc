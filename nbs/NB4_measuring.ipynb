{
 "cells": [
  {
   "cell_type": "markdown",
   "metadata": {},
   "source": [
    "# NB4: Notebook for assesing the dependent variable using the Unit of Measurment"
   ]
  },
  {
   "cell_type": "markdown",
   "metadata": {},
   "source": [
    "## Environment and Visual Settings"
   ]
  },
  {
   "cell_type": "code",
   "execution_count": 1,
   "metadata": {},
   "outputs": [],
   "source": [
    "import os\n",
    "import sys\n",
    "import zipfile\n",
    "import numpy as np\n",
    "import pandas as pd\n",
    "from dotenv import load_dotenv\n",
    "from openai import OpenAI\n",
    "\n",
    "# ADD project paths for for easier file access across whole project\n",
    "#paths_script_path = \"C:\\\\cloudgit\\\\uio24emc\\\\\"\n",
    "## CREATE parent dir path\n",
    "parent_dir = os.path.dirname(os.getcwd(),) +\"\\\\\"\n",
    "## ADD a dir to the list of directories when Python importing modules.\n",
    "sys.path.append(parent_dir)\n",
    "## IMPORTS a paths file that lives in your ./root directory \n",
    "import paths \n",
    "\n",
    "import warnings\n",
    "# Suppress all warnings\n",
    "warnings.filterwarnings('ignore')"
   ]
  },
  {
   "cell_type": "markdown",
   "metadata": {},
   "source": [
    "## SET UP GPT API Keys"
   ]
  },
  {
   "cell_type": "code",
   "execution_count": 7,
   "metadata": {},
   "outputs": [],
   "source": [
    "# Load environment variables from .env file\n",
    "load_dotenv()\n",
    "\n",
    "# Get the values of the environment variables\n",
    "organization = os.getenv('OPENAI_ORGANIZATION')\n",
    "project = os.getenv('OPENAI_PROJECT')\n",
    "api_key = os.getenv('OPENAI_API_KEY')\n",
    "\n",
    "# print(f\"Organization: {organization}\")\n",
    "# print(f\"Project: {project}\")\n",
    "\n",
    "# Initialize the OpenAI client with the environment variables'\n",
    "client = OpenAI(\n",
    "    organization=organization,\n",
    "    project=project,\n",
    "    api_key=api_key\n",
    "    )\n",
    "\n"
   ]
  },
  {
   "cell_type": "code",
   "execution_count": 8,
   "metadata": {},
   "outputs": [
    {
     "name": "stdout",
     "output_type": "stream",
     "text": [
      "ChatCompletionMessage(content='Hello! How can I assist you today?', refusal=None, role='assistant', function_call=None, tool_calls=None)\n"
     ]
    }
   ],
   "source": [
    "from openai import OpenAI\n",
    "client = OpenAI()\n",
    "\n",
    "completion = client.chat.completions.create(\n",
    "  model=\"gpt-4o-mini-2024-07-18\",\n",
    "  messages=[\n",
    "    {\"role\": \"system\", \"content\": \"You are a helpful assistant.\"},\n",
    "    {\"role\": \"user\", \"content\": \"Hello!\"}\n",
    "  ]\n",
    ")\n",
    "\n",
    "print(completion.choices[0].message)\n"
   ]
  }
 ],
 "metadata": {
  "kernelspec": {
   "display_name": "llms",
   "language": "python",
   "name": "python3"
  },
  "language_info": {
   "codemirror_mode": {
    "name": "ipython",
    "version": 3
   },
   "file_extension": ".py",
   "mimetype": "text/x-python",
   "name": "python",
   "nbconvert_exporter": "python",
   "pygments_lexer": "ipython3",
   "version": "3.10.13"
  }
 },
 "nbformat": 4,
 "nbformat_minor": 2
}
