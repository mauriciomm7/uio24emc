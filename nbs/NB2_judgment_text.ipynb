{
 "cells": [
  {
   "cell_type": "markdown",
   "metadata": {},
   "source": [
    "# NB3: Notebook created for processing judgment text\n",
    "\n",
    "**Output:** Clean dataset with the following variables. \n",
    "\n",
    "- [ ] `decision_date`: application date. \n",
    "- [ ] `referral_date `: date when the reference for preliminary referenc was sent. \n",
    "- [ ] `referring_court_name`: ???\n",
    "- [ ] `full_text`: \n",
    "- [ ] `par_location`:\n",
    "- [ ] \n",
    "\n",
    "**Output**: Create script that scrapes updates"
   ]
  },
  {
   "cell_type": "markdown",
   "metadata": {},
   "source": [
    "## Environment and Settings for Python"
   ]
  },
  {
   "cell_type": "code",
   "execution_count": 2,
   "metadata": {},
   "outputs": [
    {
     "data": {
      "text/plain": [
       "'c:\\\\gitprojects\\\\uio24emc\\\\figures\\\\'"
      ]
     },
     "execution_count": 2,
     "metadata": {},
     "output_type": "execute_result"
    }
   ],
   "source": [
    "# REQUIRED  Libraries\n",
    "import os \n",
    "import sys\n",
    "import numpy as np\n",
    "import pandas as pd\n",
    "import pyarrow.parquet as pq\n",
    "import pyarrow\n",
    "from sklearn.feature_extraction.text import TfidfVectorizer \n",
    "from sklearn.metrics.pairwise import cosine_similarity\n",
    "\n",
    "# ADD project paths for for easier access across whole project\n",
    "#paths_script_path = \"C:\\\\Users\\\\mauricmm\\\\iCloudDrive\\\\cloudgit\\\\uio24emc\\\\\"\n",
    "parent_dir = os.path.dirname(os.getcwd(),) +\"\\\\\"\n",
    "sys.path.append(parent_dir)\n",
    "import paths\n",
    "\n",
    "# Access paths globally\n",
    "paths.figures_dir"
   ]
  },
  {
   "cell_type": "markdown",
   "metadata": {},
   "source": [
    "## Start Processing Judgements Text"
   ]
  },
  {
   "cell_type": "code",
   "execution_count": 3,
   "metadata": {},
   "outputs": [],
   "source": [
    "#READ IUROPA Text Corpus Data\n",
    "iuropa_corpus_path = \"C:\\\\gitprojects\\\\uio24emc\\\\raw\\\\iuropa_text.gz.parquet\"\n",
    "iuropa_corpus = pq.read_table(iuropa_corpus_path)\n",
    "iuropa_corpus_df = iuropa_corpus.to_pandas()\n",
    "schema = pq.read_schema(iuropa_corpus_path)"
   ]
  },
  {
   "cell_type": "code",
   "execution_count": 4,
   "metadata": {},
   "outputs": [],
   "source": [
    "# [ ] CREATE columns selector \n",
    "# [ ] CREATE rows boolean mask\n",
    "# [ ] CHECK if the text from the sections is good  to process. \n",
    "# [ ] OUTPUT target dataset to to data as  \"judgements\" \n",
    "iuropa_corpus_df.columns\n",
    "\n",
    "\n",
    "# Columns selector Selector\n",
    "cols_selector =  ['document_id', 'paragraph_id', 'language', 'ecli', 'court',\n",
    "       'date', 'year', 'text', 'line_id', 'line_id_prop', 'section',\n",
    "       'paragraph_type', 'paragraph_number', 'nchar', 'html_class',\n",
    "       'html_attr']\n",
    "\n",
    "# BOOLEAN Conditions for mask\n",
    "\n"
   ]
  },
  {
   "cell_type": "code",
   "execution_count": 13,
   "metadata": {},
   "outputs": [],
   "source": [
    "iuropa_corpus_df.head()\n",
    "iuropa_corpus_df\n",
    "\n",
    "# Search for rows where the specified column contains the search text\n",
    "# This example performs a case-insensitive search\n",
    "limited_df = iuropa_corpus_df.head(1000)\n",
    "matching_rows = limited_df[limited_df['text'].str.contains( \"admissibility\" , case=False, na=False)]"
   ]
  },
  {
   "cell_type": "markdown",
   "metadata": {},
   "source": [
    "### NOTES"
   ]
  },
  {
   "cell_type": "code",
   "execution_count": null,
   "metadata": {},
   "outputs": [],
   "source": [
    "# USE Query for complex but not to elaborated queries\n",
    "filtered_df = df.query('description.str.contains(\"data\") & id > 1', engine='python')\n",
    "\n",
    "# USE BOOLEAN masks for more complex conditions\n",
    "condition1 = df['description'].str.contains('data', case=False, na=False)\n",
    "condition2 = df['age'] > 30\n",
    "condition3 = df['name'].isin(['Alice', 'David'])\n",
    "# Combine the conditions using logical operators\n",
    "complex_mask = condition1 & condition2 | condition3\n",
    "\n",
    "# Apply the mask to filter the DataFrame\n",
    "filtered_df = df[complex_mask]"
   ]
  }
 ],
 "metadata": {
  "kernelspec": {
   "display_name": "llms",
   "language": "python",
   "name": "python3"
  },
  "language_info": {
   "codemirror_mode": {
    "name": "ipython",
    "version": 3
   },
   "file_extension": ".py",
   "mimetype": "text/x-python",
   "name": "python",
   "nbconvert_exporter": "python",
   "pygments_lexer": "ipython3",
   "version": "3.10.13"
  }
 },
 "nbformat": 4,
 "nbformat_minor": 2
}
